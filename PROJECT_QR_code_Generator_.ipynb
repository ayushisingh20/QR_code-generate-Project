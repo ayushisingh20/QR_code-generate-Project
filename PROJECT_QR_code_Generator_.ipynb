{
  "nbformat": 4,
  "nbformat_minor": 0,
  "metadata": {
    "colab": {
      "provenance": []
    },
    "kernelspec": {
      "name": "python3",
      "display_name": "Python 3"
    },
    "language_info": {
      "name": "python"
    }
  },
  "cells": [
    {
      "cell_type": "markdown",
      "source": [
        "# QR code Generator in python"
      ],
      "metadata": {
        "id": "5xWtzldOJVK1"
      }
    },
    {
      "cell_type": "code",
      "execution_count": null,
      "metadata": {
        "colab": {
          "base_uri": "https://localhost:8080/"
        },
        "id": "YAEBeornCogz",
        "outputId": "1a3609ef-0f7c-4da3-9bbd-8305f6fa7b0d"
      },
      "outputs": [
        {
          "output_type": "stream",
          "name": "stdout",
          "text": [
            "Requirement already satisfied: qrcode[pil] in /usr/local/lib/python3.10/dist-packages (7.4.2)\n",
            "Requirement already satisfied: typing-extensions in /usr/local/lib/python3.10/dist-packages (from qrcode[pil]) (4.10.0)\n",
            "Requirement already satisfied: pypng in /usr/local/lib/python3.10/dist-packages (from qrcode[pil]) (0.20220715.0)\n",
            "Requirement already satisfied: pillow>=9.1.0 in /usr/local/lib/python3.10/dist-packages (from qrcode[pil]) (9.4.0)\n"
          ]
        }
      ],
      "source": [
        "!pip install qrcode[pil]\n",
        "import qrcode as qr"
      ]
    },
    {
      "cell_type": "code",
      "source": [
        "img = qr.make(\"https://github.com/ayushisingh20?tab=repositories\")"
      ],
      "metadata": {
        "id": "Cz7ig2YuKinC"
      },
      "execution_count": null,
      "outputs": []
    },
    {
      "cell_type": "code",
      "source": [
        "img.save(\"ayushi_github.png\")"
      ],
      "metadata": {
        "id": "L1-Bz0-DL-Ei"
      },
      "execution_count": null,
      "outputs": []
    }
  ]
}